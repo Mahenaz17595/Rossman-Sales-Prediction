{
  "nbformat": 4,
  "nbformat_minor": 0,
  "metadata": {
    "colab": {
      "name": "Rossmann Sales Prediction",
      "provenance": [],
      "collapsed_sections": [],
      "toc_visible": true,
      "include_colab_link": true
    },
    "kernelspec": {
      "name": "python3",
      "display_name": "Python 3"
    }
  },
  "cells": [
    {
      "cell_type": "markdown",
      "metadata": {
        "id": "view-in-github",
        "colab_type": "text"
      },
      "source": [
        "<a href=\"https://colab.research.google.com/github/Mahenaz17595/Rossman-Sales-Prediction/blob/master/Rossmann_Sales_Prediction.ipynb\" target=\"_parent\"><img src=\"https://colab.research.google.com/assets/colab-badge.svg\" alt=\"Open In Colab\"/></a>"
      ]
    },
    {
      "cell_type": "markdown",
      "metadata": {
        "id": "du_vIckP1MX1",
        "colab_type": "text"
      },
      "source": [
        "**1. Import Packages**"
      ]
    },
    {
      "cell_type": "code",
      "metadata": {
        "id": "lXg-LknHHfll",
        "colab_type": "code",
        "outputId": "61a5b0cf-c5ea-449e-95f9-70bd6506eacf",
        "colab": {
          "base_uri": "https://localhost:8080/",
          "height": 490
        }
      },
      "source": [
        "!pip3 install plotly==2.7.0"
      ],
      "execution_count": 1,
      "outputs": [
        {
          "output_type": "stream",
          "text": [
            "Collecting plotly==2.7.0\n",
            "\u001b[?25l  Downloading https://files.pythonhosted.org/packages/c4/0c/1b8241395302fd66b34a0fe0774ed83632afd14aa5c995b262fb7b3ac540/plotly-2.7.0.tar.gz (25.0MB)\n",
            "\u001b[K     |████████████████████████████████| 25.0MB 4.6MB/s \n",
            "\u001b[?25hRequirement already satisfied: decorator>=4.0.6 in /usr/local/lib/python3.6/dist-packages (from plotly==2.7.0) (4.4.2)\n",
            "Requirement already satisfied: nbformat>=4.2 in /usr/local/lib/python3.6/dist-packages (from plotly==2.7.0) (5.0.6)\n",
            "Requirement already satisfied: pytz in /usr/local/lib/python3.6/dist-packages (from plotly==2.7.0) (2018.9)\n",
            "Requirement already satisfied: requests in /usr/local/lib/python3.6/dist-packages (from plotly==2.7.0) (2.23.0)\n",
            "Requirement already satisfied: six in /usr/local/lib/python3.6/dist-packages (from plotly==2.7.0) (1.12.0)\n",
            "Requirement already satisfied: ipython-genutils in /usr/local/lib/python3.6/dist-packages (from nbformat>=4.2->plotly==2.7.0) (0.2.0)\n",
            "Requirement already satisfied: jsonschema!=2.5.0,>=2.4 in /usr/local/lib/python3.6/dist-packages (from nbformat>=4.2->plotly==2.7.0) (2.6.0)\n",
            "Requirement already satisfied: jupyter-core in /usr/local/lib/python3.6/dist-packages (from nbformat>=4.2->plotly==2.7.0) (4.6.3)\n",
            "Requirement already satisfied: traitlets>=4.1 in /usr/local/lib/python3.6/dist-packages (from nbformat>=4.2->plotly==2.7.0) (4.3.3)\n",
            "Requirement already satisfied: idna<3,>=2.5 in /usr/local/lib/python3.6/dist-packages (from requests->plotly==2.7.0) (2.9)\n",
            "Requirement already satisfied: certifi>=2017.4.17 in /usr/local/lib/python3.6/dist-packages (from requests->plotly==2.7.0) (2020.4.5.1)\n",
            "Requirement already satisfied: chardet<4,>=3.0.2 in /usr/local/lib/python3.6/dist-packages (from requests->plotly==2.7.0) (3.0.4)\n",
            "Requirement already satisfied: urllib3!=1.25.0,!=1.25.1,<1.26,>=1.21.1 in /usr/local/lib/python3.6/dist-packages (from requests->plotly==2.7.0) (1.24.3)\n",
            "Building wheels for collected packages: plotly\n",
            "  Building wheel for plotly (setup.py) ... \u001b[?25l\u001b[?25hdone\n",
            "  Created wheel for plotly: filename=plotly-2.7.0-cp36-none-any.whl size=25015297 sha256=cebbdd4928a3a3f292f80e36670379b7b95a19ad538d5fb1935f887aac87b504\n",
            "  Stored in directory: /root/.cache/pip/wheels/0c/3e/07/4848195c61f659184ca41d5a614845a018ab2d2f2a705b9998\n",
            "Successfully built plotly\n",
            "\u001b[31mERROR: cufflinks 0.17.3 has requirement plotly>=4.1.1, but you'll have plotly 2.7.0 which is incompatible.\u001b[0m\n",
            "Installing collected packages: plotly\n",
            "  Found existing installation: plotly 4.4.1\n",
            "    Uninstalling plotly-4.4.1:\n",
            "      Successfully uninstalled plotly-4.4.1\n",
            "Successfully installed plotly-2.7.0\n"
          ],
          "name": "stdout"
        }
      ]
    },
    {
      "cell_type": "code",
      "metadata": {
        "id": "nNElcn4B1USc",
        "colab_type": "code",
        "outputId": "6ecc9536-8b50-4fb8-b568-a4d35e2cc393",
        "colab": {
          "base_uri": "https://localhost:8080/",
          "height": 70
        }
      },
      "source": [
        "import numpy as np\n",
        "import pandas as pd\n",
        "import matplotlib.pyplot as plt\n",
        "%matplotlib inline\n",
        "import seaborn as sns\n",
        "sns.set_style(\"whitegrid\")\n",
        "import plotly \n",
        "import plotly.graph_objs as go\n",
        "import plotly.plotly as py\n",
        "#import chart_studio.plotly as py\n",
        "import sklearn\n",
        "import warnings\n",
        "warnings.filterwarnings(\"ignore\")"
      ],
      "execution_count": 2,
      "outputs": [
        {
          "output_type": "stream",
          "text": [
            "/usr/local/lib/python3.6/dist-packages/statsmodels/tools/_testing.py:19: FutureWarning: pandas.util.testing is deprecated. Use the functions in the public API at pandas.testing instead.\n",
            "  import pandas.util.testing as tm\n"
          ],
          "name": "stderr"
        }
      ]
    },
    {
      "cell_type": "markdown",
      "metadata": {
        "id": "KypY2mw71eTL",
        "colab_type": "text"
      },
      "source": [
        "**2. Data Preparation**"
      ]
    },
    {
      "cell_type": "markdown",
      "metadata": {
        "id": "cXoEXmjZ1wzl",
        "colab_type": "text"
      },
      "source": [
        "**2.1 Load Dataset**"
      ]
    },
    {
      "cell_type": "code",
      "metadata": {
        "id": "y7E_v7-E3GY-",
        "colab_type": "code",
        "outputId": "918055ea-0722-4624-e10f-0fe473f7a08d",
        "colab": {
          "base_uri": "https://localhost:8080/",
          "height": 121
        }
      },
      "source": [
        "from google.colab import drive\n",
        "drive.mount('/content/drive')"
      ],
      "execution_count": 3,
      "outputs": [
        {
          "output_type": "stream",
          "text": [
            "Go to this URL in a browser: https://accounts.google.com/o/oauth2/auth?client_id=947318989803-6bn6qk8qdgf4n4g3pfee6491hc0brc4i.apps.googleusercontent.com&redirect_uri=urn%3aietf%3awg%3aoauth%3a2.0%3aoob&response_type=code&scope=email%20https%3a%2f%2fwww.googleapis.com%2fauth%2fdocs.test%20https%3a%2f%2fwww.googleapis.com%2fauth%2fdrive%20https%3a%2f%2fwww.googleapis.com%2fauth%2fdrive.photos.readonly%20https%3a%2f%2fwww.googleapis.com%2fauth%2fpeopleapi.readonly\n",
            "\n",
            "Enter your authorization code:\n",
            "··········\n",
            "Mounted at /content/drive\n"
          ],
          "name": "stdout"
        }
      ]
    },
    {
      "cell_type": "code",
      "metadata": {
        "id": "rKYPIZ3y3RlJ",
        "colab_type": "code",
        "colab": {}
      },
      "source": [
        "url_store = '/content/drive/My Drive/Project_3/Dataset/store.csv'\n",
        "store = pd.read_csv(url_store)\n",
        "\n",
        "url_train = '/content/drive/My Drive/Project_3/Dataset/train.csv'\n",
        "train = pd.read_csv(url_train,parse_dates = True, index_col = 'Date')"
      ],
      "execution_count": 0,
      "outputs": []
    },
    {
      "cell_type": "code",
      "metadata": {
        "id": "uUj8MXXg5uAn",
        "colab_type": "code",
        "outputId": "46a65ab5-3c43-4029-93c9-31cfb7bc6650",
        "colab": {
          "base_uri": "https://localhost:8080/",
          "height": 242
        }
      },
      "source": [
        "print(\"# of observations & # of features\", train.shape)\n",
        "train.head()"
      ],
      "execution_count": 5,
      "outputs": [
        {
          "output_type": "stream",
          "text": [
            "# of observations & # of features (1017209, 8)\n"
          ],
          "name": "stdout"
        },
        {
          "output_type": "execute_result",
          "data": {
            "text/html": [
              "<div>\n",
              "<style scoped>\n",
              "    .dataframe tbody tr th:only-of-type {\n",
              "        vertical-align: middle;\n",
              "    }\n",
              "\n",
              "    .dataframe tbody tr th {\n",
              "        vertical-align: top;\n",
              "    }\n",
              "\n",
              "    .dataframe thead th {\n",
              "        text-align: right;\n",
              "    }\n",
              "</style>\n",
              "<table border=\"1\" class=\"dataframe\">\n",
              "  <thead>\n",
              "    <tr style=\"text-align: right;\">\n",
              "      <th></th>\n",
              "      <th>Store</th>\n",
              "      <th>DayOfWeek</th>\n",
              "      <th>Sales</th>\n",
              "      <th>Customers</th>\n",
              "      <th>Open</th>\n",
              "      <th>Promo</th>\n",
              "      <th>StateHoliday</th>\n",
              "      <th>SchoolHoliday</th>\n",
              "    </tr>\n",
              "    <tr>\n",
              "      <th>Date</th>\n",
              "      <th></th>\n",
              "      <th></th>\n",
              "      <th></th>\n",
              "      <th></th>\n",
              "      <th></th>\n",
              "      <th></th>\n",
              "      <th></th>\n",
              "      <th></th>\n",
              "    </tr>\n",
              "  </thead>\n",
              "  <tbody>\n",
              "    <tr>\n",
              "      <th>2015-07-31</th>\n",
              "      <td>1</td>\n",
              "      <td>5</td>\n",
              "      <td>5263</td>\n",
              "      <td>555</td>\n",
              "      <td>1</td>\n",
              "      <td>1</td>\n",
              "      <td>0</td>\n",
              "      <td>1</td>\n",
              "    </tr>\n",
              "    <tr>\n",
              "      <th>2015-07-31</th>\n",
              "      <td>2</td>\n",
              "      <td>5</td>\n",
              "      <td>6064</td>\n",
              "      <td>625</td>\n",
              "      <td>1</td>\n",
              "      <td>1</td>\n",
              "      <td>0</td>\n",
              "      <td>1</td>\n",
              "    </tr>\n",
              "    <tr>\n",
              "      <th>2015-07-31</th>\n",
              "      <td>3</td>\n",
              "      <td>5</td>\n",
              "      <td>8314</td>\n",
              "      <td>821</td>\n",
              "      <td>1</td>\n",
              "      <td>1</td>\n",
              "      <td>0</td>\n",
              "      <td>1</td>\n",
              "    </tr>\n",
              "    <tr>\n",
              "      <th>2015-07-31</th>\n",
              "      <td>4</td>\n",
              "      <td>5</td>\n",
              "      <td>13995</td>\n",
              "      <td>1498</td>\n",
              "      <td>1</td>\n",
              "      <td>1</td>\n",
              "      <td>0</td>\n",
              "      <td>1</td>\n",
              "    </tr>\n",
              "    <tr>\n",
              "      <th>2015-07-31</th>\n",
              "      <td>5</td>\n",
              "      <td>5</td>\n",
              "      <td>4822</td>\n",
              "      <td>559</td>\n",
              "      <td>1</td>\n",
              "      <td>1</td>\n",
              "      <td>0</td>\n",
              "      <td>1</td>\n",
              "    </tr>\n",
              "  </tbody>\n",
              "</table>\n",
              "</div>"
            ],
            "text/plain": [
              "            Store  DayOfWeek  Sales  ...  Promo  StateHoliday  SchoolHoliday\n",
              "Date                                 ...                                    \n",
              "2015-07-31      1          5   5263  ...      1             0              1\n",
              "2015-07-31      2          5   6064  ...      1             0              1\n",
              "2015-07-31      3          5   8314  ...      1             0              1\n",
              "2015-07-31      4          5  13995  ...      1             0              1\n",
              "2015-07-31      5          5   4822  ...      1             0              1\n",
              "\n",
              "[5 rows x 8 columns]"
            ]
          },
          "metadata": {
            "tags": []
          },
          "execution_count": 5
        }
      ]
    },
    {
      "cell_type": "code",
      "metadata": {
        "id": "VAI16-po54kA",
        "colab_type": "code",
        "outputId": "a24c0066-95a2-4751-b241-f89c1143b3c7",
        "colab": {
          "base_uri": "https://localhost:8080/",
          "height": 232
        }
      },
      "source": [
        "print(\"# of observations & # of features\", store.shape)\n",
        "store.head()"
      ],
      "execution_count": 6,
      "outputs": [
        {
          "output_type": "stream",
          "text": [
            "# of observations & # of features (1115, 10)\n"
          ],
          "name": "stdout"
        },
        {
          "output_type": "execute_result",
          "data": {
            "text/html": [
              "<div>\n",
              "<style scoped>\n",
              "    .dataframe tbody tr th:only-of-type {\n",
              "        vertical-align: middle;\n",
              "    }\n",
              "\n",
              "    .dataframe tbody tr th {\n",
              "        vertical-align: top;\n",
              "    }\n",
              "\n",
              "    .dataframe thead th {\n",
              "        text-align: right;\n",
              "    }\n",
              "</style>\n",
              "<table border=\"1\" class=\"dataframe\">\n",
              "  <thead>\n",
              "    <tr style=\"text-align: right;\">\n",
              "      <th></th>\n",
              "      <th>Store</th>\n",
              "      <th>StoreType</th>\n",
              "      <th>Assortment</th>\n",
              "      <th>CompetitionDistance</th>\n",
              "      <th>CompetitionOpenSinceMonth</th>\n",
              "      <th>CompetitionOpenSinceYear</th>\n",
              "      <th>Promo2</th>\n",
              "      <th>Promo2SinceWeek</th>\n",
              "      <th>Promo2SinceYear</th>\n",
              "      <th>PromoInterval</th>\n",
              "    </tr>\n",
              "  </thead>\n",
              "  <tbody>\n",
              "    <tr>\n",
              "      <th>0</th>\n",
              "      <td>1</td>\n",
              "      <td>c</td>\n",
              "      <td>a</td>\n",
              "      <td>1270.0</td>\n",
              "      <td>9.0</td>\n",
              "      <td>2008.0</td>\n",
              "      <td>0</td>\n",
              "      <td>NaN</td>\n",
              "      <td>NaN</td>\n",
              "      <td>NaN</td>\n",
              "    </tr>\n",
              "    <tr>\n",
              "      <th>1</th>\n",
              "      <td>2</td>\n",
              "      <td>a</td>\n",
              "      <td>a</td>\n",
              "      <td>570.0</td>\n",
              "      <td>11.0</td>\n",
              "      <td>2007.0</td>\n",
              "      <td>1</td>\n",
              "      <td>13.0</td>\n",
              "      <td>2010.0</td>\n",
              "      <td>Jan,Apr,Jul,Oct</td>\n",
              "    </tr>\n",
              "    <tr>\n",
              "      <th>2</th>\n",
              "      <td>3</td>\n",
              "      <td>a</td>\n",
              "      <td>a</td>\n",
              "      <td>14130.0</td>\n",
              "      <td>12.0</td>\n",
              "      <td>2006.0</td>\n",
              "      <td>1</td>\n",
              "      <td>14.0</td>\n",
              "      <td>2011.0</td>\n",
              "      <td>Jan,Apr,Jul,Oct</td>\n",
              "    </tr>\n",
              "    <tr>\n",
              "      <th>3</th>\n",
              "      <td>4</td>\n",
              "      <td>c</td>\n",
              "      <td>c</td>\n",
              "      <td>620.0</td>\n",
              "      <td>9.0</td>\n",
              "      <td>2009.0</td>\n",
              "      <td>0</td>\n",
              "      <td>NaN</td>\n",
              "      <td>NaN</td>\n",
              "      <td>NaN</td>\n",
              "    </tr>\n",
              "    <tr>\n",
              "      <th>4</th>\n",
              "      <td>5</td>\n",
              "      <td>a</td>\n",
              "      <td>a</td>\n",
              "      <td>29910.0</td>\n",
              "      <td>4.0</td>\n",
              "      <td>2015.0</td>\n",
              "      <td>0</td>\n",
              "      <td>NaN</td>\n",
              "      <td>NaN</td>\n",
              "      <td>NaN</td>\n",
              "    </tr>\n",
              "  </tbody>\n",
              "</table>\n",
              "</div>"
            ],
            "text/plain": [
              "   Store StoreType  ... Promo2SinceYear    PromoInterval\n",
              "0      1         c  ...             NaN              NaN\n",
              "1      2         a  ...          2010.0  Jan,Apr,Jul,Oct\n",
              "2      3         a  ...          2011.0  Jan,Apr,Jul,Oct\n",
              "3      4         c  ...             NaN              NaN\n",
              "4      5         a  ...             NaN              NaN\n",
              "\n",
              "[5 rows x 10 columns]"
            ]
          },
          "metadata": {
            "tags": []
          },
          "execution_count": 6
        }
      ]
    },
    {
      "cell_type": "markdown",
      "metadata": {
        "id": "p_0yvT-I6C24",
        "colab_type": "text"
      },
      "source": [
        "**2.2 Dealing With Missing Values**"
      ]
    },
    {
      "cell_type": "markdown",
      "metadata": {
        "id": "__VWr5qt6Mk4",
        "colab_type": "text"
      },
      "source": [
        "**2.2.1 Count missing values in each dataset**"
      ]
    },
    {
      "cell_type": "code",
      "metadata": {
        "id": "l2pQ-OI-6UQv",
        "colab_type": "code",
        "outputId": "dae962f7-f734-4413-8b8a-9ef166678a5e",
        "colab": {
          "base_uri": "https://localhost:8080/",
          "height": 437
        }
      },
      "source": [
        "print(\"train:\\n\\n\", train.isnull().sum(),  \n",
        "     \"\\n\\nstore:\\n\\n\", store.isnull().sum())"
      ],
      "execution_count": 7,
      "outputs": [
        {
          "output_type": "stream",
          "text": [
            "train:\n",
            "\n",
            " Store            0\n",
            "DayOfWeek        0\n",
            "Sales            0\n",
            "Customers        0\n",
            "Open             0\n",
            "Promo            0\n",
            "StateHoliday     0\n",
            "SchoolHoliday    0\n",
            "dtype: int64 \n",
            "\n",
            "store:\n",
            "\n",
            " Store                          0\n",
            "StoreType                      0\n",
            "Assortment                     0\n",
            "CompetitionDistance            3\n",
            "CompetitionOpenSinceMonth    354\n",
            "CompetitionOpenSinceYear     354\n",
            "Promo2                         0\n",
            "Promo2SinceWeek              544\n",
            "Promo2SinceYear              544\n",
            "PromoInterval                544\n",
            "dtype: int64\n"
          ],
          "name": "stdout"
        }
      ]
    },
    {
      "cell_type": "markdown",
      "metadata": {
        "id": "DnDXhdyB6d8O",
        "colab_type": "text"
      },
      "source": [
        "**2.2.2 Remove features with high percentages of missing values**"
      ]
    },
    {
      "cell_type": "markdown",
      "metadata": {
        "id": "ykWiTNUL6ild",
        "colab_type": "text"
      },
      "source": [
        "we can see that some features have a high percentage of missing values and they won't be accurate as indicators, so we will remove features with more than 30% missing values."
      ]
    },
    {
      "cell_type": "code",
      "metadata": {
        "id": "gOlBBZix6oCf",
        "colab_type": "code",
        "colab": {}
      },
      "source": [
        "# remove features\n",
        "store = store.drop(['CompetitionOpenSinceMonth', 'CompetitionOpenSinceYear','Promo2SinceWeek',\n",
        "                     'Promo2SinceYear', 'PromoInterval'], axis=1)"
      ],
      "execution_count": 0,
      "outputs": []
    },
    {
      "cell_type": "markdown",
      "metadata": {
        "id": "_pDE52436xka",
        "colab_type": "text"
      },
      "source": [
        "\n",
        "**2.2.3 Replace missing values in features with low percentages of missing values**\n"
      ]
    },
    {
      "cell_type": "code",
      "metadata": {
        "id": "8c5xKLHn62Tj",
        "colab_type": "code",
        "outputId": "b3e4010d-75b3-4784-bb64-c4989a37cd5d",
        "colab": {
          "base_uri": "https://localhost:8080/",
          "height": 312
        }
      },
      "source": [
        "# CompetitionDistance is distance in meters to the nearest competitor store\n",
        "# let's first have a look at its distribution\n",
        "sns.distplot(store.CompetitionDistance.dropna())\n",
        "plt.title(\"Distributin of Store Competition Distance\")"
      ],
      "execution_count": 9,
      "outputs": [
        {
          "output_type": "execute_result",
          "data": {
            "text/plain": [
              "Text(0.5, 1.0, 'Distributin of Store Competition Distance')"
            ]
          },
          "metadata": {
            "tags": []
          },
          "execution_count": 9
        },
        {
          "output_type": "display_data",
          "data": {
            "image/png": "[encoded data removed]",
            "text/plain": [
              "<Figure size 432x288 with 1 Axes>"
            ]
          },
          "metadata": {
            "tags": []
          }
        }
      ]
    },
    {
      "cell_type": "markdown",
      "metadata": {
        "id": "gxlvg6nP7NBV",
        "colab_type": "text"
      },
      "source": [
        "**The distribution is right skewed, so we'll replace missing values with the median.**"
      ]
    },
    {
      "cell_type": "code",
      "metadata": {
        "id": "IXjbe-6e7rL5",
        "colab_type": "code",
        "colab": {}
      },
      "source": [
        "# replace missing values in CompetitionDistance with median for the store dataset\n",
        "store.CompetitionDistance.fillna(store.CompetitionDistance.median(), inplace=True)"
      ],
      "execution_count": 0,
      "outputs": []
    },
    {
      "cell_type": "markdown",
      "metadata": {
        "id": "UYCK-UNvlSH0",
        "colab_type": "text"
      },
      "source": [
        "**2.3 Date Extraction**"
      ]
    },
    {
      "cell_type": "code",
      "metadata": {
        "id": "zJFIy7vPlWOn",
        "colab_type": "code",
        "colab": {}
      },
      "source": [
        "# extract year, month, day and week of year from \"Date\"\n",
        "train['Year'] = train.index.year\n",
        "train['Month'] = train.index.month\n",
        "train['Day'] = train.index.day\n",
        "train['WeekOfYear'] = train.index.weekofyear\n",
        "train = train.reset_index()"
      ],
      "execution_count": 0,
      "outputs": []
    },
    {
      "cell_type": "markdown",
      "metadata": {
        "id": "_izOGooxlco0",
        "colab_type": "text"
      },
      "source": [
        "\n",
        "**`2.4 Joining Tables`**"
      ]
    },
    {
      "cell_type": "code",
      "metadata": {
        "id": "0z3hH-Lclfb7",
        "colab_type": "code",
        "outputId": "d36155ba-9193-433f-b4d7-50f0b245d729",
        "colab": {
          "base_uri": "https://localhost:8080/",
          "height": 299
        }
      },
      "source": [
        "df = pd.merge(train, store, how='left', on='Store')\n",
        "df.head()"
      ],
      "execution_count": 12,
      "outputs": [
        {
          "output_type": "execute_result",
          "data": {
            "text/html": [
              "<div>\n",
              "<style scoped>\n",
              "    .dataframe tbody tr th:only-of-type {\n",
              "        vertical-align: middle;\n",
              "    }\n",
              "\n",
              "    .dataframe tbody tr th {\n",
              "        vertical-align: top;\n",
              "    }\n",
              "\n",
              "    .dataframe thead th {\n",
              "        text-align: right;\n",
              "    }\n",
              "</style>\n",
              "<table border=\"1\" class=\"dataframe\">\n",
              "  <thead>\n",
              "    <tr style=\"text-align: right;\">\n",
              "      <th></th>\n",
              "      <th>Date</th>\n",
              "      <th>Store</th>\n",
              "      <th>DayOfWeek</th>\n",
              "      <th>Sales</th>\n",
              "      <th>Customers</th>\n",
              "      <th>Open</th>\n",
              "      <th>Promo</th>\n",
              "      <th>StateHoliday</th>\n",
              "      <th>SchoolHoliday</th>\n",
              "      <th>Year</th>\n",
              "      <th>Month</th>\n",
              "      <th>Day</th>\n",
              "      <th>WeekOfYear</th>\n",
              "      <th>StoreType</th>\n",
              "      <th>Assortment</th>\n",
              "      <th>CompetitionDistance</th>\n",
              "      <th>Promo2</th>\n",
              "    </tr>\n",
              "  </thead>\n",
              "  <tbody>\n",
              "    <tr>\n",
              "      <th>0</th>\n",
              "      <td>2015-07-31</td>\n",
              "      <td>1</td>\n",
              "      <td>5</td>\n",
              "      <td>5263</td>\n",
              "      <td>555</td>\n",
              "      <td>1</td>\n",
              "      <td>1</td>\n",
              "      <td>0</td>\n",
              "      <td>1</td>\n",
              "      <td>2015</td>\n",
              "      <td>7</td>\n",
              "      <td>31</td>\n",
              "      <td>31</td>\n",
              "      <td>c</td>\n",
              "      <td>a</td>\n",
              "      <td>1270.0</td>\n",
              "      <td>0</td>\n",
              "    </tr>\n",
              "    <tr>\n",
              "      <th>1</th>\n",
              "      <td>2015-07-31</td>\n",
              "      <td>2</td>\n",
              "      <td>5</td>\n",
              "      <td>6064</td>\n",
              "      <td>625</td>\n",
              "      <td>1</td>\n",
              "      <td>1</td>\n",
              "      <td>0</td>\n",
              "      <td>1</td>\n",
              "      <td>2015</td>\n",
              "      <td>7</td>\n",
              "      <td>31</td>\n",
              "      <td>31</td>\n",
              "      <td>a</td>\n",
              "      <td>a</td>\n",
              "      <td>570.0</td>\n",
              "      <td>1</td>\n",
              "    </tr>\n",
              "    <tr>\n",
              "      <th>2</th>\n",
              "      <td>2015-07-31</td>\n",
              "      <td>3</td>\n",
              "      <td>5</td>\n",
              "      <td>8314</td>\n",
              "      <td>821</td>\n",
              "      <td>1</td>\n",
              "      <td>1</td>\n",
              "      <td>0</td>\n",
              "      <td>1</td>\n",
              "      <td>2015</td>\n",
              "      <td>7</td>\n",
              "      <td>31</td>\n",
              "      <td>31</td>\n",
              "      <td>a</td>\n",
              "      <td>a</td>\n",
              "      <td>14130.0</td>\n",
              "      <td>1</td>\n",
              "    </tr>\n",
              "    <tr>\n",
              "      <th>3</th>\n",
              "      <td>2015-07-31</td>\n",
              "      <td>4</td>\n",
              "      <td>5</td>\n",
              "      <td>13995</td>\n",
              "      <td>1498</td>\n",
              "      <td>1</td>\n",
              "      <td>1</td>\n",
              "      <td>0</td>\n",
              "      <td>1</td>\n",
              "      <td>2015</td>\n",
              "      <td>7</td>\n",
              "      <td>31</td>\n",
              "      <td>31</td>\n",
              "      <td>c</td>\n",
              "      <td>c</td>\n",
              "      <td>620.0</td>\n",
              "      <td>0</td>\n",
              "    </tr>\n",
              "    <tr>\n",
              "      <th>4</th>\n",
              "      <td>2015-07-31</td>\n",
              "      <td>5</td>\n",
              "      <td>5</td>\n",
              "      <td>4822</td>\n",
              "      <td>559</td>\n",
              "      <td>1</td>\n",
              "      <td>1</td>\n",
              "      <td>0</td>\n",
              "      <td>1</td>\n",
              "      <td>2015</td>\n",
              "      <td>7</td>\n",
              "      <td>31</td>\n",
              "      <td>31</td>\n",
              "      <td>a</td>\n",
              "      <td>a</td>\n",
              "      <td>29910.0</td>\n",
              "      <td>0</td>\n",
              "    </tr>\n",
              "  </tbody>\n",
              "</table>\n",
              "</div>"
            ],
            "text/plain": [
              "        Date  Store  DayOfWeek  ...  Assortment  CompetitionDistance  Promo2\n",
              "0 2015-07-31      1          5  ...           a               1270.0       0\n",
              "1 2015-07-31      2          5  ...           a                570.0       1\n",
              "2 2015-07-31      3          5  ...           a              14130.0       1\n",
              "3 2015-07-31      4          5  ...           c                620.0       0\n",
              "4 2015-07-31      5          5  ...           a              29910.0       0\n",
              "\n",
              "[5 rows x 17 columns]"
            ]
          },
          "metadata": {
            "tags": []
          },
          "execution_count": 12
        }
      ]
    },
    {
      "cell_type": "code",
      "metadata": {
        "id": "Igq2TG_llt-k",
        "colab_type": "code",
        "outputId": "8e9447b7-4694-44cc-d888-02641354b1e5",
        "colab": {
          "base_uri": "https://localhost:8080/",
          "height": 34
        }
      },
      "source": [
        "len(df)"
      ],
      "execution_count": 13,
      "outputs": [
        {
          "output_type": "execute_result",
          "data": {
            "text/plain": [
              "1017209"
            ]
          },
          "metadata": {
            "tags": []
          },
          "execution_count": 13
        }
      ]
    },
    {
      "cell_type": "markdown",
      "metadata": {
        "id": "SOMQSJ2ClzRO",
        "colab_type": "text"
      },
      "source": [
        "\n",
        "**2.5 Drop Subsets Of Data Where Might Cause Bias**"
      ]
    },
    {
      "cell_type": "code",
      "metadata": {
        "id": "XQ4_hyZtl4Eg",
        "colab_type": "code",
        "colab": {}
      },
      "source": [
        "# where stores are closed, they won't generate sales, so we will remove this part of the dataset\n",
        "df = df[df.Open != 0]"
      ],
      "execution_count": 0,
      "outputs": []
    },
    {
      "cell_type": "code",
      "metadata": {
        "id": "5nkoEcrSl8sJ",
        "colab_type": "code",
        "colab": {}
      },
      "source": [
        "# Open isn't a variable anymore, so we'll drop it\n",
        "df = df.drop('Open', axis=1)"
      ],
      "execution_count": 0,
      "outputs": []
    },
    {
      "cell_type": "code",
      "metadata": {
        "id": "46IhBrGFmAzs",
        "colab_type": "code",
        "outputId": "515c1e30-67c7-4752-da04-fc5371abd372",
        "colab": {
          "base_uri": "https://localhost:8080/",
          "height": 34
        }
      },
      "source": [
        "# see if there's any opened store with zero sales\n",
        "df[df.Sales == 0]['Store'].sum()"
      ],
      "execution_count": 16,
      "outputs": [
        {
          "output_type": "execute_result",
          "data": {
            "text/plain": [
              "31460"
            ]
          },
          "metadata": {
            "tags": []
          },
          "execution_count": 16
        }
      ]
    },
    {
      "cell_type": "code",
      "metadata": {
        "id": "kE9mD4BYsLPK",
        "colab_type": "code",
        "outputId": "92a3492b-2162-4566-c46a-972138bedbcc",
        "colab": {
          "base_uri": "https://localhost:8080/",
          "height": 34
        }
      },
      "source": [
        "# see the percentage of open stored with zero sales\n",
        "df[df.Sales == 0]['Sales'].sum()/df.Sales.sum()"
      ],
      "execution_count": 17,
      "outputs": [
        {
          "output_type": "execute_result",
          "data": {
            "text/plain": [
              "0.0"
            ]
          },
          "metadata": {
            "tags": []
          },
          "execution_count": 17
        }
      ]
    },
    {
      "cell_type": "code",
      "metadata": {
        "id": "xEzphE-UsPo5",
        "colab_type": "code",
        "colab": {}
      },
      "source": [
        "# remove this part of data to avoid bias\n",
        "df = df[df.Sales != 0]"
      ],
      "execution_count": 0,
      "outputs": []
    },
    {
      "cell_type": "markdown",
      "metadata": {
        "id": "UyphvP7AsTKO",
        "colab_type": "text"
      },
      "source": [
        "**2.6 Feature Engineering**"
      ]
    },
    {
      "cell_type": "code",
      "metadata": {
        "id": "K6zHcC7asWG7",
        "colab_type": "code",
        "outputId": "a0da54fb-16b8-4252-95ca-2772089f48b3",
        "colab": {
          "base_uri": "https://localhost:8080/",
          "height": 403
        }
      },
      "source": [
        "# see what variable types we have\n",
        "df.info()"
      ],
      "execution_count": 19,
      "outputs": [
        {
          "output_type": "stream",
          "text": [
            "<class 'pandas.core.frame.DataFrame'>\n",
            "Int64Index: 844338 entries, 0 to 1017190\n",
            "Data columns (total 16 columns):\n",
            " #   Column               Non-Null Count   Dtype         \n",
            "---  ------               --------------   -----         \n",
            " 0   Date                 844338 non-null  datetime64[ns]\n",
            " 1   Store                844338 non-null  int64         \n",
            " 2   DayOfWeek            844338 non-null  int64         \n",
            " 3   Sales                844338 non-null  int64         \n",
            " 4   Customers            844338 non-null  int64         \n",
            " 5   Promo                844338 non-null  int64         \n",
            " 6   StateHoliday         844338 non-null  object        \n",
            " 7   SchoolHoliday        844338 non-null  int64         \n",
            " 8   Year                 844338 non-null  int64         \n",
            " 9   Month                844338 non-null  int64         \n",
            " 10  Day                  844338 non-null  int64         \n",
            " 11  WeekOfYear           844338 non-null  int64         \n",
            " 12  StoreType            844338 non-null  object        \n",
            " 13  Assortment           844338 non-null  object        \n",
            " 14  CompetitionDistance  844338 non-null  float64       \n",
            " 15  Promo2               844338 non-null  int64         \n",
            "dtypes: datetime64[ns](1), float64(1), int64(11), object(3)\n",
            "memory usage: 109.5+ MB\n"
          ],
          "name": "stdout"
        }
      ]
    },
    {
      "cell_type": "code",
      "metadata": {
        "id": "eHMB6Okasc2j",
        "colab_type": "code",
        "outputId": "48bd35e1-e886-4395-ec81-800114e8f9b7",
        "colab": {
          "base_uri": "https://localhost:8080/",
          "height": 34
        }
      },
      "source": [
        "# see what's in nominal varibles \n",
        "set(df.StateHoliday), set(df.StoreType), set(df.Assortment)"
      ],
      "execution_count": 20,
      "outputs": [
        {
          "output_type": "execute_result",
          "data": {
            "text/plain": [
              "({0, '0', 'a', 'b', 'c'}, {'a', 'b', 'c', 'd'}, {'a', 'b', 'c'})"
            ]
          },
          "metadata": {
            "tags": []
          },
          "execution_count": 20
        }
      ]
    },
    {
      "cell_type": "code",
      "metadata": {
        "id": "9tpE2DBDsirG",
        "colab_type": "code",
        "colab": {}
      },
      "source": [
        "# StateHoliday indicates a state holiday - a = public holiday, b = Easter holiday, c = Christmas, 0 = None\n",
        "# convert number 0 to string 0\n",
        "df.loc[df.StateHoliday == 0,'StateHoliday'] = df.loc[df.StateHoliday == 0,'StateHoliday'].astype(str)"
      ],
      "execution_count": 0,
      "outputs": []
    },
    {
      "cell_type": "code",
      "metadata": {
        "id": "IYLy4gWMsmWn",
        "colab_type": "code",
        "colab": {}
      },
      "source": [
        "# make a copy in case I mess up anything \n",
        "df1 = df.copy()"
      ],
      "execution_count": 0,
      "outputs": []
    },
    {
      "cell_type": "markdown",
      "metadata": {
        "id": "knrajAP4sp6O",
        "colab_type": "text"
      },
      "source": [
        "**2.6.1 Create new variable \"AvgSales\"**"
      ]
    },
    {
      "cell_type": "markdown",
      "metadata": {
        "id": "pRU9HJ6Osttn",
        "colab_type": "text"
      },
      "source": [
        "create a variable that calculates monthly average sales for each store"
      ]
    },
    {
      "cell_type": "code",
      "metadata": {
        "id": "BOZGMfvtsxCq",
        "colab_type": "code",
        "colab": {}
      },
      "source": [
        "# calculate weekly average sales\n",
        "sales = df1[['Year','Month','Store','Sales']].groupby(['Year','Month','Store']).mean()\n",
        "sales = sales.rename(columns={'Sales':'AvgSales'})\n",
        "sales = sales.reset_index()"
      ],
      "execution_count": 0,
      "outputs": []
    },
    {
      "cell_type": "code",
      "metadata": {
        "id": "zGwbuDURs02m",
        "colab_type": "code",
        "colab": {}
      },
      "source": [
        "df1['sales_key']=df1['Year'].map(str) + df1['Month'].map(str) + df1['Store'].map(str)\n",
        "sales['sales_key']=sales['Year'].map(str) + sales['Month'].map(str) + sales['Store'].map(str)"
      ],
      "execution_count": 0,
      "outputs": []
    },
    {
      "cell_type": "code",
      "metadata": {
        "id": "wD932Q6Us55d",
        "colab_type": "code",
        "colab": {}
      },
      "source": [
        "# drop extra columns\n",
        "sales = sales.drop(['Year','Month','Store'], axis=1)\n",
        "# merge\n",
        "df1 = pd.merge(df1, sales, how='left', on=('sales_key'))"
      ],
      "execution_count": 0,
      "outputs": []
    },
    {
      "cell_type": "markdown",
      "metadata": {
        "id": "DIIKmzOVtASW",
        "colab_type": "text"
      },
      "source": [
        "**2.6.2 Create new variable \"AvgCustomer\"**"
      ]
    },
    {
      "cell_type": "markdown",
      "metadata": {
        "id": "-tm6MeAruylA",
        "colab_type": "text"
      },
      "source": [
        "create a variable that calculates Monthly average number of customers for each store, becuase daily number of customer is another variable to be predicted"
      ]
    },
    {
      "cell_type": "code",
      "metadata": {
        "id": "lm9r5O1huz9q",
        "colab_type": "code",
        "colab": {}
      },
      "source": [
        "# calculate weekly average\n",
        "cust = df1[['Year','Month','Store','Customers']].groupby(['Year','Month', 'Store']).mean()\n",
        "cust = cust.rename(columns={'Customers':'AvgCustomer'})\n",
        "cust = cust.reset_index()"
      ],
      "execution_count": 0,
      "outputs": []
    },
    {
      "cell_type": "code",
      "metadata": {
        "id": "6sSpnAGpvEv-",
        "colab_type": "code",
        "colab": {}
      },
      "source": [
        "df1['cust_key']=df1['Year'].map(str) + df1['Month'].map(str) + df1['Store'].map(str)\n",
        "cust['cust_key']=cust['Year'].map(str) + cust['Month'].map(str) + cust['Store'].map(str)"
      ],
      "execution_count": 0,
      "outputs": []
    },
    {
      "cell_type": "code",
      "metadata": {
        "id": "N7Ttrz-hvFoC",
        "colab_type": "code",
        "colab": {}
      },
      "source": [
        "# drop original feature Customers\n",
        "df1 = df1.drop('Customers', axis=1)# drop extra columns\n",
        "cust = cust.drop(['Year', 'Month', 'Store'], axis=1)"
      ],
      "execution_count": 0,
      "outputs": []
    },
    {
      "cell_type": "code",
      "metadata": {
        "id": "H8bVsc9vvLKL",
        "colab_type": "code",
        "colab": {}
      },
      "source": [
        "# merge\n",
        "df1 = pd.merge(df1, cust, how=\"left\", on=('cust_key'))"
      ],
      "execution_count": 0,
      "outputs": []
    },
    {
      "cell_type": "markdown",
      "metadata": {
        "id": "c5ErSn2rvQSJ",
        "colab_type": "text"
      },
      "source": [
        "**2.6.3 Transform Variable \"StateHoliday\"**"
      ]
    },
    {
      "cell_type": "code",
      "metadata": {
        "id": "2VN1CylEvXu2",
        "colab_type": "code",
        "colab": {}
      },
      "source": [
        "# 0 - not a state holiday; 1- is on a state holiday\n",
        "df1['StateHoliday'] = df1.StateHoliday.map({'0':0, 'a':1 ,'b' : 1,'c': 1})"
      ],
      "execution_count": 0,
      "outputs": []
    },
    {
      "cell_type": "code",
      "metadata": {
        "id": "PnNE8RGRvbCf",
        "colab_type": "code",
        "colab": {}
      },
      "source": [
        "# drop extra columns\n",
        "df1 = df1.drop(['cust_key','sales_key','Store','Date'], axis=1)"
      ],
      "execution_count": 0,
      "outputs": []
    },
    {
      "cell_type": "markdown",
      "metadata": {
        "id": "aPwoIMbovely",
        "colab_type": "text"
      },
      "source": [
        "**3. Exploratory Data Analysis**"
      ]
    },
    {
      "cell_type": "code",
      "metadata": {
        "id": "PhPe-9slvgiX",
        "colab_type": "code",
        "colab": {}
      },
      "source": [
        "# becasue my computer keeps crashing, I had to sample the dataset \n",
        "dfv = df.sample(n=5000, random_state=1)"
      ],
      "execution_count": 0,
      "outputs": []
    },
    {
      "cell_type": "code",
      "metadata": {
        "id": "MWUY2fPT1caJ",
        "colab_type": "code",
        "outputId": "7babc697-40b8-46c6-eb31-9277c6649cfd",
        "colab": {
          "base_uri": "https://localhost:8080/",
          "height": 34
        }
      },
      "source": [
        "import getpass\n",
        "\n",
        "APIKEY = getpass.getpass()"
      ],
      "execution_count": 33,
      "outputs": [
        {
          "output_type": "stream",
          "text": [
            "··········\n"
          ],
          "name": "stdout"
        }
      ]
    },
    {
      "cell_type": "code",
      "metadata": {
        "id": "KcX94GkAvooJ",
        "colab_type": "code",
        "colab": {}
      },
      "source": [
        "# set up credential file for plotly\n",
        "plotly.tools.set_credentials_file(username='17wh1a0595', api_key='xW6238B6m3qBLte8o39r')"
      ],
      "execution_count": 0,
      "outputs": []
    },
    {
      "cell_type": "markdown",
      "metadata": {
        "id": "xCybbkof1n4v",
        "colab_type": "text"
      },
      "source": [
        "**3.1 Correlation Heatmap**"
      ]
    },
    {
      "cell_type": "markdown",
      "metadata": {
        "id": "9ug0vdm-1qOI",
        "colab_type": "text"
      },
      "source": [
        "create a heatmap to see correlation between all variables"
      ]
    },
    {
      "cell_type": "code",
      "metadata": {
        "id": "nUQRNvNs1tZr",
        "colab_type": "code",
        "colab": {}
      },
      "source": [
        "corr = df1.corr()"
      ],
      "execution_count": 0,
      "outputs": []
    },
    {
      "cell_type": "code",
      "metadata": {
        "id": "jd9pdlmG10jl",
        "colab_type": "code",
        "outputId": "8b173cc4-f32e-4f0a-b996-89404f8001ed",
        "colab": {
          "base_uri": "https://localhost:8080/",
          "height": 670
        }
      },
      "source": [
        "mask = np.zeros_like(corr, dtype = np.bool)\n",
        "mask[np.triu_indices_from(mask)] = True\n",
        "f, ax = plt.subplots(figsize = (11, 9))\n",
        "sns.heatmap(corr, mask = mask,\n",
        "            square = True, linewidths = .5, ax = ax, cmap = \"BuPu\")\n",
        "plt.title(\"Correlation Heatmap\", fontsize=20)"
      ],
      "execution_count": 36,
      "outputs": [
        {
          "output_type": "execute_result",
          "data": {
            "text/plain": [
              "Text(0.5, 1.0, 'Correlation Heatmap')"
            ]
          },
          "metadata": {
            "tags": []
          },
          "execution_count": 36
        },
        {
          "output_type": "display_data",
          "data": {
            "image/png": "[encoded data removed]",
            "text/plain": [
              "<Figure size 792x648 with 2 Axes>"
            ]
          },
          "metadata": {
            "tags": []
          }
        }
      ]
    },
    {
      "cell_type": "markdown",
      "metadata": {
        "id": "UEsSnxG314kG",
        "colab_type": "text"
      },
      "source": [
        "\n",
        "**3.2 Sales Distribution**\n"
      ]
    },
    {
      "cell_type": "code",
      "metadata": {
        "id": "iPppxONJ2A1_",
        "colab_type": "code",
        "outputId": "52de026c-e729-4eca-9a3f-f7e43025ae54",
        "colab": {
          "base_uri": "https://localhost:8080/",
          "height": 546
        }
      },
      "source": [
        "sales_dist = [go.Histogram(x=df.Sales, marker=dict(color='pink'))]\n",
        "layout2 = go.Layout(title='Sales Distribution', xaxis=dict(title='daily sales in $'), yaxis=dict(title='number of observations'))\n",
        "fig2 = go.Figure(data=sales_dist, layout=layout2)\n",
        "py.iplot(fig2)"
      ],
      "execution_count": 37,
      "outputs": [
        {
          "output_type": "execute_result",
          "data": {
            "text/html": [
              "<iframe id=\"igraph\" scrolling=\"no\" style=\"border:none;\" seamless=\"seamless\" src=\"https://plot.ly/~17wh1a0595/110.embed\" height=\"525px\" width=\"100%\"></iframe>"
            ],
            "text/plain": [
              "<plotly.tools.PlotlyDisplay object>"
            ]
          },
          "metadata": {
            "tags": []
          },
          "execution_count": 37
        }
      ]
    },
    {
      "cell_type": "markdown",
      "metadata": {
        "id": "k2bzVnWq2Gux",
        "colab_type": "text"
      },
      "source": [
        "**3.3 Customer Distribution**"
      ]
    },
    {
      "cell_type": "code",
      "metadata": {
        "id": "0_4xkVu52JDk",
        "colab_type": "code",
        "outputId": "473b8928-f8c8-4d0f-ce4b-86c91048eb94",
        "colab": {
          "base_uri": "https://localhost:8080/",
          "height": 546
        }
      },
      "source": [
        "cust_dist = [go.Histogram(x=df.Customers, marker=dict(color=('rgb(158,202,225')))]\n",
        "layout3 = go.Layout(title='Customer Distribution', \n",
        "                   xaxis=dict(title='daily total number of customers'), yaxis=dict(title='number of observations'))\n",
        "fig3 = go.Figure(data=cust_dist, layout=layout3)\n",
        "py.iplot(fig3)"
      ],
      "execution_count": 38,
      "outputs": [
        {
          "output_type": "execute_result",
          "data": {
            "text/html": [
              "<iframe id=\"igraph\" scrolling=\"no\" style=\"border:none;\" seamless=\"seamless\" src=\"https://plot.ly/~17wh1a0595/112.embed\" height=\"525px\" width=\"100%\"></iframe>"
            ],
            "text/plain": [
              "<plotly.tools.PlotlyDisplay object>"
            ]
          },
          "metadata": {
            "tags": []
          },
          "execution_count": 38
        }
      ]
    },
    {
      "cell_type": "markdown",
      "metadata": {
        "id": "sN_4eyIYAiWX",
        "colab_type": "text"
      },
      "source": [
        "\n",
        "**3.4 Sales Over Time**"
      ]
    },
    {
      "cell_type": "code",
      "metadata": {
        "id": "2c0gb9jUAtgv",
        "colab_type": "code",
        "colab": {}
      },
      "source": [
        "store1_2015 = df.query('Store == 1 and Year == 2015')\n",
        "store1_2013 = df.query('Store == 1 and Year == 2013')\n",
        "store1_2014 = df.query('Store == 1 and Year == 2014')"
      ],
      "execution_count": 0,
      "outputs": []
    },
    {
      "cell_type": "code",
      "metadata": {
        "id": "jp0ErmtMBCdi",
        "colab_type": "code",
        "outputId": "ba81140f-cf43-4045-e9ce-eadf5366dc02",
        "colab": {
          "base_uri": "https://localhost:8080/",
          "height": 546
        }
      },
      "source": [
        "trace_2013 = go.Scatter(\n",
        "                x=store1_2013.Date,\n",
        "                y=store1_2013.Sales,\n",
        "                name = \"2013\",\n",
        "                opacity = 0.8)\n",
        "\n",
        "trace_2014 = go.Scatter(\n",
        "                x=store1_2014.Date,\n",
        "                y=store1_2014.Sales,\n",
        "                name = \"2014\",\n",
        "                opacity = 0.8)\n",
        "\n",
        "trace_2015 = go.Scatter(\n",
        "                x=store1_2015.Date,\n",
        "                y=store1_2015.Sales,\n",
        "                name = \"2015\",\n",
        "                opacity = 0.8)\n",
        "\n",
        "data = [trace_2013,trace_2014, trace_2015]\n",
        "layout = go.Layout(title='Sales Over Time', \n",
        "                   xaxis=dict(title='Date'), yaxis=dict(title='Sales'))\n",
        "fig = go.Figure(data=data, layout=layout)\n",
        "py.iplot(fig)"
      ],
      "execution_count": 40,
      "outputs": [
        {
          "output_type": "execute_result",
          "data": {
            "text/html": [
              "<iframe id=\"igraph\" scrolling=\"no\" style=\"border:none;\" seamless=\"seamless\" src=\"https://plot.ly/~17wh1a0595/114.embed\" height=\"525px\" width=\"100%\"></iframe>"
            ],
            "text/plain": [
              "<plotly.tools.PlotlyDisplay object>"
            ]
          },
          "metadata": {
            "tags": []
          },
          "execution_count": 40
        }
      ]
    },
    {
      "cell_type": "markdown",
      "metadata": {
        "id": "_Cpt9IUt-yVX",
        "colab_type": "text"
      },
      "source": [
        "**3.5 Sales Over Days Of A Month**"
      ]
    },
    {
      "cell_type": "code",
      "metadata": {
        "id": "eAUHfcBj-3pZ",
        "colab_type": "code",
        "outputId": "077eee6e-3d76-42f2-f20a-b00add6b8134",
        "colab": {
          "base_uri": "https://localhost:8080/",
          "height": 546
        }
      },
      "source": [
        "day_s = [go.Scatter(x=dfv.Day, y=dfv.Sales, mode='markers', \n",
        "                    marker=dict(size=15, color=dfv.Customers, colorbar=dict(title='Number Of Customers'),))]\n",
        "layout5 = go.Layout(title='Sales Over Days Of A Month', \n",
        "                   xaxis=dict(title='Day Of Month'), yaxis=dict(title='Total Sales'))\n",
        "fig5 = go.Figure(data=day_s, layout=layout5)\n",
        "py.iplot(fig5)"
      ],
      "execution_count": 41,
      "outputs": [
        {
          "output_type": "execute_result",
          "data": {
            "text/html": [
              "<iframe id=\"igraph\" scrolling=\"no\" style=\"border:none;\" seamless=\"seamless\" src=\"https://plot.ly/~17wh1a0595/116.embed\" height=\"525px\" width=\"100%\"></iframe>"
            ],
            "text/plain": [
              "<plotly.tools.PlotlyDisplay object>"
            ]
          },
          "metadata": {
            "tags": []
          },
          "execution_count": 41
        }
      ]
    },
    {
      "cell_type": "markdown",
      "metadata": {
        "id": "aZ_dX_1c0ak5",
        "colab_type": "text"
      },
      "source": [
        "**3.6 Sales Over Weeks**"
      ]
    },
    {
      "cell_type": "code",
      "metadata": {
        "id": "0wN2Qhqo0k6L",
        "colab_type": "code",
        "outputId": "9bbf4d9a-81a8-47c8-8e08-f2e5716d21bb",
        "colab": {
          "base_uri": "https://localhost:8080/",
          "height": 546
        }
      },
      "source": [
        "trace = go.Bar(x=dfv.WeekOfYear,\n",
        "                y=dfv.Sales,\n",
        "                name = \"WeekOfYear\", marker=dict(color=dfv.WeekOfYear, colorscale='Jet'))\n",
        "\n",
        "data = [trace]\n",
        "layout = go.Layout(title='Sales Over Week Of Year', \n",
        "                   xaxis=dict(title='Week Of Year'), yaxis=dict(title='Sales'))\n",
        "fig = go.Figure(data=data, layout=layout)\n",
        "py.iplot(fig)\n",
        "\n"
      ],
      "execution_count": 42,
      "outputs": [
        {
          "output_type": "execute_result",
          "data": {
            "text/html": [
              "<iframe id=\"igraph\" scrolling=\"no\" style=\"border:none;\" seamless=\"seamless\" src=\"https://plot.ly/~17wh1a0595/118.embed\" height=\"525px\" width=\"100%\"></iframe>"
            ],
            "text/plain": [
              "<plotly.tools.PlotlyDisplay object>"
            ]
          },
          "metadata": {
            "tags": []
          },
          "execution_count": 42
        }
      ]
    },
    {
      "cell_type": "code",
      "metadata": {
        "id": "HsK3gBNA0yaA",
        "colab_type": "code",
        "outputId": "17cda22d-98dc-4b3e-c1e0-1c43c93e26df",
        "colab": {
          "base_uri": "https://localhost:8080/",
          "height": 546
        }
      },
      "source": [
        "day_w = [go.Bar(x=dfv.DayOfWeek, y=dfv.Sales, \n",
        "                marker=dict(color=dfv.DayOfWeek,\n",
        "                            colorscale ='Viridis'))]\n",
        "layout6 = go.Layout(title='Sales Over Days Of A Week', \n",
        "                   xaxis=dict(title='Day Of Week'), yaxis=dict(title='Total Sales'))\n",
        "fig6 = go.Figure(data=day_w, layout=layout6)\n",
        "py.iplot(fig6)"
      ],
      "execution_count": 43,
      "outputs": [
        {
          "output_type": "execute_result",
          "data": {
            "text/html": [
              "<iframe id=\"igraph\" scrolling=\"no\" style=\"border:none;\" seamless=\"seamless\" src=\"https://plot.ly/~17wh1a0595/120.embed\" height=\"525px\" width=\"100%\"></iframe>"
            ],
            "text/plain": [
              "<plotly.tools.PlotlyDisplay object>"
            ]
          },
          "metadata": {
            "tags": []
          },
          "execution_count": 43
        }
      ]
    },
    {
      "cell_type": "markdown",
      "metadata": {
        "id": "RYqJDbWM05yK",
        "colab_type": "text"
      },
      "source": [
        "**3.7 Sales By Store Type**"
      ]
    },
    {
      "cell_type": "code",
      "metadata": {
        "id": "cqTgLTw409co",
        "colab_type": "code",
        "outputId": "c3d1856d-32ff-4883-8519-586aa9794338",
        "colab": {
          "base_uri": "https://localhost:8080/",
          "height": 546
        }
      },
      "source": [
        "# StoreType - differentiates between 4 different store models: a, b, c, d\n",
        "s_type = [go.Box(x=dfv.StoreType, y=dfv.Sales,\n",
        "                 boxpoints='all', jitter=0.3, pointpos=-1.8)]\n",
        "layout7 = go.Layout(title='Sales By Store Type', \n",
        "                   xaxis=dict(title='Store Type'), yaxis=dict(title='Total Sales'))\n",
        "fig7 = go.Figure(data=s_type, layout=layout7)\n",
        "py.iplot(fig7)"
      ],
      "execution_count": 44,
      "outputs": [
        {
          "output_type": "execute_result",
          "data": {
            "text/html": [
              "<iframe id=\"igraph\" scrolling=\"no\" style=\"border:none;\" seamless=\"seamless\" src=\"https://plot.ly/~17wh1a0595/122.embed\" height=\"525px\" width=\"100%\"></iframe>"
            ],
            "text/plain": [
              "<plotly.tools.PlotlyDisplay object>"
            ]
          },
          "metadata": {
            "tags": []
          },
          "execution_count": 44
        }
      ]
    },
    {
      "cell_type": "markdown",
      "metadata": {
        "id": "1TXIXrro1PI4",
        "colab_type": "text"
      },
      "source": [
        "**3.8 Sales By Assortment**"
      ]
    },
    {
      "cell_type": "code",
      "metadata": {
        "id": "0rQKcpKB1SAv",
        "colab_type": "code",
        "outputId": "ce15f83e-712d-48e2-95a9-340a76f8f8b0",
        "colab": {
          "base_uri": "https://localhost:8080/",
          "height": 546
        }
      },
      "source": [
        "# Assortment - describes an assortment level: a = basic, b = extra, c = extended\n",
        "s_assort = [go.Box(x=dfv.Assortment, y=dfv.Sales,marker=dict(color='green'), \n",
        "                 boxpoints='all', jitter=0.3, pointpos=-1.8)]\n",
        "layout8 = go.Layout(title='Sales By Assortment', \n",
        "                   xaxis=dict(title='Assortment'), yaxis=dict(title='Total Sales'))\n",
        "fig8 = go.Figure(data=s_assort, layout=layout8)\n",
        "py.iplot(fig8)"
      ],
      "execution_count": 45,
      "outputs": [
        {
          "output_type": "execute_result",
          "data": {
            "text/html": [
              "<iframe id=\"igraph\" scrolling=\"no\" style=\"border:none;\" seamless=\"seamless\" src=\"https://plot.ly/~17wh1a0595/124.embed\" height=\"525px\" width=\"100%\"></iframe>"
            ],
            "text/plain": [
              "<plotly.tools.PlotlyDisplay object>"
            ]
          },
          "metadata": {
            "tags": []
          },
          "execution_count": 45
        }
      ]
    },
    {
      "cell_type": "markdown",
      "metadata": {
        "id": "DJSismRa4M1S",
        "colab_type": "text"
      },
      "source": [
        "**3.9 Sales By Promotion**"
      ]
    },
    {
      "cell_type": "code",
      "metadata": {
        "id": "6ofDR-J34UdY",
        "colab_type": "code",
        "outputId": "cf5270c2-2a62-4462-8bce-d44a770aa72d",
        "colab": {
          "base_uri": "https://localhost:8080/",
          "height": 546
        }
      },
      "source": [
        "s_promo = [go.Box(x=dfv.Promo, y=dfv.Sales,marker=dict(color='purple'), \n",
        "                 boxpoints='all', jitter=0.3, pointpos=-1.8)]\n",
        "layout11 = go.Layout(title='Sales By Promotion', \n",
        "                   xaxis=dict(title='Promotion(0-No Promotion; 1-Promotion Period)'), yaxis=dict(title='Total Sales'))\n",
        "fig11 = go.Figure(data=s_promo, layout=layout11)\n",
        "py.iplot(fig11)"
      ],
      "execution_count": 49,
      "outputs": [
        {
          "output_type": "execute_result",
          "data": {
            "text/html": [
              "<iframe id=\"igraph\" scrolling=\"no\" style=\"border:none;\" seamless=\"seamless\" src=\"https://plot.ly/~17wh1a0595/130.embed\" height=\"525px\" width=\"100%\"></iframe>"
            ],
            "text/plain": [
              "<plotly.tools.PlotlyDisplay object>"
            ]
          },
          "metadata": {
            "tags": []
          },
          "execution_count": 49
        }
      ]
    },
    {
      "cell_type": "code",
      "metadata": {
        "id": "72-TXtVB4fe2",
        "colab_type": "code",
        "colab": {}
      },
      "source": [
        "promo0 = dfv.query('Promo==0')\n",
        "promo0 = promo0.rename(columns={'Sales':'No_Promotion_Sales'})\n",
        "promo1 = dfv.query('Promo==1')\n",
        "promo1 = promo1.rename(columns={'Sales':'Promotion_Sales'})\n",
        "x1 = promo0.No_Promotion_Sales\n",
        "x2 = promo1.Promotion_Sales"
      ],
      "execution_count": 0,
      "outputs": []
    },
    {
      "cell_type": "code",
      "metadata": {
        "id": "wCKa_laD4olL",
        "colab_type": "code",
        "outputId": "17cc2198-5f4b-41cb-b86e-8dee7856b025",
        "colab": {
          "base_uri": "https://localhost:8080/",
          "height": 407
        }
      },
      "source": [
        "plt.figure(figsize=(10,6))\n",
        "ax = sns.kdeplot(x1, shade=True, color=\"r\")\n",
        "ax = sns.kdeplot(x2, shade=True, color=\"b\")\n",
        "plt.title(\"Sales By Promotion\")\n",
        "plt.ylabel('Sales')"
      ],
      "execution_count": 51,
      "outputs": [
        {
          "output_type": "execute_result",
          "data": {
            "text/plain": [
              "Text(0, 0.5, 'Sales')"
            ]
          },
          "metadata": {
            "tags": []
          },
          "execution_count": 51
        },
        {
          "output_type": "display_data",
          "data": {
            "image/png": "[encoded data removed]",
            "text/plain": [
              "<Figure size 720x432 with 1 Axes>"
            ]
          },
          "metadata": {
            "tags": []
          }
        }
      ]
    },
    {
      "cell_type": "markdown",
      "metadata": {
        "id": "d8x1fohj5PVP",
        "colab_type": "text"
      },
      "source": [
        "**4. Store Sales Prediction**"
      ]
    },
    {
      "cell_type": "code",
      "metadata": {
        "id": "aIZCVK6q5RdA",
        "colab_type": "code",
        "colab": {}
      },
      "source": [
        "dfd = df1.sample(n=50000, random_state=1)"
      ],
      "execution_count": 0,
      "outputs": []
    },
    {
      "cell_type": "code",
      "metadata": {
        "id": "e-5pxfHA6qXd",
        "colab_type": "code",
        "colab": {}
      },
      "source": [
        "# split features and labels\n",
        "X = dfd.drop('Sales', axis=1)\n",
        "y = dfd. Sales"
      ],
      "execution_count": 0,
      "outputs": []
    },
    {
      "cell_type": "code",
      "metadata": {
        "id": "8jsR25WR-JGm",
        "colab_type": "code",
        "colab": {}
      },
      "source": [
        "# get dummy variables for categorical features for linear regression\n",
        "xd = X.copy()\n",
        "xd = pd.get_dummies(xd)"
      ],
      "execution_count": 0,
      "outputs": []
    },
    {
      "cell_type": "code",
      "metadata": {
        "id": "pC6mRRS1-LYw",
        "colab_type": "code",
        "colab": {}
      },
      "source": [
        "# label nominal variables for tree based regression\n",
        "xl = X.copy()\n",
        "\n",
        "from sklearn.preprocessing import LabelEncoder\n",
        "label = LabelEncoder()\n",
        "xl.StateHoliday = label.fit_transform(xl.StateHoliday)\n",
        "xl.Assortment = label.fit_transform(xl.Assortment)\n",
        "xl.StoreType = label.fit_transform(xl.StoreType)"
      ],
      "execution_count": 0,
      "outputs": []
    },
    {
      "cell_type": "code",
      "metadata": {
        "id": "CV4EoAwA-OeC",
        "colab_type": "code",
        "colab": {}
      },
      "source": [
        "# split training and test datasets\n",
        "from sklearn.model_selection import train_test_split\n",
        "\n",
        "#from sklearn.cross_validation import train_test_split\n",
        "xd_train,xd_test,yd_train,yd_test = train_test_split(xd,y,test_size=0.3, random_state=1)\n",
        "xl_train,xl_test,yl_train,yl_test = train_test_split(xl,y,test_size=0.3, random_state=1)"
      ],
      "execution_count": 0,
      "outputs": []
    },
    {
      "cell_type": "markdown",
      "metadata": {
        "id": "-gd5jio7gbMN",
        "colab_type": "text"
      },
      "source": [
        "**4.1 Linear Regression**"
      ]
    },
    {
      "cell_type": "code",
      "metadata": {
        "id": "3y3ucJfigrKJ",
        "colab_type": "code",
        "colab": {}
      },
      "source": [
        "from sklearn.linear_model import LinearRegression\n",
        "lin= LinearRegression()\n",
        "linreg = lin.fit(xd_train, yd_train)"
      ],
      "execution_count": 0,
      "outputs": []
    },
    {
      "cell_type": "code",
      "metadata": {
        "id": "slkQ9kJKgyV9",
        "colab_type": "code",
        "outputId": "18435e1c-6381-4c23-fc46-860931cddc06",
        "colab": {
          "base_uri": "https://localhost:8080/",
          "height": 67
        }
      },
      "source": [
        "# definte RMSE function\n",
        "from sklearn.metrics import mean_squared_error\n",
        "from math import sqrt\n",
        "\n",
        "def rmse(x, y):\n",
        "    return sqrt(mean_squared_error(x, y))\n",
        "\n",
        "# definte MAPE function\n",
        "def mape(x, y): \n",
        "    return np.mean(np.abs((x - y) / x)) * 100  \n",
        "  \n",
        "# get cross validation scores \n",
        "yd_predicted = linreg.predict(xd_train)\n",
        "yd_test_predicted = linreg.predict(xd_test)\n",
        "\n",
        "print(\"Training Accuracy\" , \":\" , linreg.score(xd_train, yd_train) , \",\" ,\n",
        "      \"Testing Accuarcy\" ,\":\" , linreg.score(xd_test, yd_test))\n",
        "print(\"Training RMSE\", \":\", rmse(yd_train, yd_predicted),\n",
        "      \"Testing RMSE\", \":\", rmse(yd_test, yd_test_predicted))\n",
        "print(\"Training MAPE\", \":\", mape(yd_train, yd_predicted),\n",
        "      \"Testing MAPE\", \":\", mape(yd_test, yd_test_predicted))"
      ],
      "execution_count": 80,
      "outputs": [
        {
          "output_type": "stream",
          "text": [
            "Training Accuracy : 0.7534426463092014 , Testing Accuarcy : 0.7374031695181285\n",
            "Training RMSE : 1558.666986443433 Testing RMSE : 1569.7998978110754\n",
            "Training MAPE : 16.994613661283044 Testing MAPE : 17.223983944754266\n"
          ],
          "name": "stdout"
        }
      ]
    },
    {
      "cell_type": "markdown",
      "metadata": {
        "id": "SMJS1ObtjioB",
        "colab_type": "text"
      },
      "source": [
        "**4.2 Random Forest Regression**"
      ]
    },
    {
      "cell_type": "code",
      "metadata": {
        "id": "TJ0hZ0Hwjkh2",
        "colab_type": "code",
        "colab": {}
      },
      "source": [
        "from sklearn.ensemble import RandomForestRegressor\n",
        "rdf = RandomForestRegressor(n_estimators=30)\n",
        "rdfreg = rdf.fit(xl_train, yl_train)"
      ],
      "execution_count": 0,
      "outputs": []
    },
    {
      "cell_type": "code",
      "metadata": {
        "id": "QmmTo-vpjqw6",
        "colab_type": "code",
        "outputId": "f0a1d0d5-ae7d-4837-9b04-9ed9eaf9e3e8",
        "colab": {
          "base_uri": "https://localhost:8080/",
          "height": 67
        }
      },
      "source": [
        "print(\"Training Accuracy\" , \":\" , rdfreg.score(xl_train, yl_train) , \",\" ,\n",
        "      \"Testing Accuracy\" ,\":\" , rdfreg.score(xl_test, yl_test))   \n",
        "\n",
        "yl_predicted = rdfreg.predict(xl_train)\n",
        "yl_test_predicted = rdfreg.predict(xl_test)\n",
        "\n",
        "print(\"Training RMSE\", \":\", rmse(yl_train, yl_predicted),\n",
        "      \"Testing RMSE\", \":\", rmse(yl_test, yl_test_predicted))\n",
        "print(\"Training MAPE\", \":\", mape(yl_train, yl_predicted),\n",
        "      \"Testing MAPE\", \":\", mape(yl_test, yl_test_predicted))"
      ],
      "execution_count": 82,
      "outputs": [
        {
          "output_type": "stream",
          "text": [
            "Training Accuracy : 0.9780625035557274 , Testing Accuracy : 0.840880217880209\n",
            "Training RMSE : 464.9303406719477 Testing RMSE : 1221.9730961039108\n",
            "Training MAPE : 4.769141738115451 Testing MAPE : 12.607426476138588\n"
          ],
          "name": "stdout"
        }
      ]
    },
    {
      "cell_type": "markdown",
      "metadata": {
        "id": "EN9W1BLwnBkk",
        "colab_type": "text"
      },
      "source": [
        "**4.3 K-Nearest Neighbors Regression**"
      ]
    },
    {
      "cell_type": "code",
      "metadata": {
        "id": "PqAdqd0znJp9",
        "colab_type": "code",
        "colab": {}
      },
      "source": [
        "from sklearn.neighbors import KNeighborsRegressor\n",
        "knn = KNeighborsRegressor(n_neighbors = 30)\n",
        "knnreg = knn.fit(xd_train, yd_train)"
      ],
      "execution_count": 0,
      "outputs": []
    },
    {
      "cell_type": "code",
      "metadata": {
        "id": "Eq1vSwXQnVu2",
        "colab_type": "code",
        "outputId": "f544e398-a4fd-40e7-dd93-beb93a018605",
        "colab": {
          "base_uri": "https://localhost:8080/",
          "height": 67
        }
      },
      "source": [
        "print(\"Training Accuracy\" , \":\" , knnreg.score(xd_train, yd_train) , \",\" ,\n",
        "      \"Testing Accuracy\" ,\":\" , knnreg.score(xd_test, yd_test))\n",
        "\n",
        "yd_predicted = knnreg.predict(xd_train)\n",
        "yd_test_predicted = knnreg.predict(xd_test)\n",
        "\n",
        "print(\"Training RMSE\", \":\", rmse(yd_train, yd_predicted),\n",
        "      \"Testing RMSE\", \":\", rmse(yd_test, yd_test_predicted))\n",
        "print(\"Training MAPE\", \":\", mape(yd_train, yd_predicted),\n",
        "      \"Testing MAPE\", \":\", mape(yd_test, yd_test_predicted))"
      ],
      "execution_count": 84,
      "outputs": [
        {
          "output_type": "stream",
          "text": [
            "Training Accuracy : 0.6275761316749886 , Testing Accuracy : 0.57616778527949\n",
            "Training RMSE : 1915.6365301074293 Testing RMSE : 1994.3277777509113\n",
            "Training MAPE : 22.923501535229647 Testing MAPE : 23.86797893442435\n"
          ],
          "name": "stdout"
        }
      ]
    },
    {
      "cell_type": "code",
      "metadata": {
        "id": "a0augM0Hn-Te",
        "colab_type": "code",
        "outputId": "e30c844f-5e83-456d-df48-c5dbbc9f0692",
        "colab": {
          "base_uri": "https://localhost:8080/",
          "height": 252
        }
      },
      "source": [
        "for x in range(1,15):\n",
        "    knn = KNeighborsRegressor(n_neighbors = x)\n",
        "    knnreg = knn.fit(xd_train, yd_train)\n",
        "    print(\"Regresion Model Score\" , \":\" , knnreg.score(xd_train, yd_train) , \",\" ,\n",
        "      \"Out of Sample Test Score\" ,\":\" , knnreg.score(xd_test, yd_test))"
      ],
      "execution_count": 85,
      "outputs": [
        {
          "output_type": "stream",
          "text": [
            "Regresion Model Score : 1.0 , Out of Sample Test Score : 0.2568662059879595\n",
            "Regresion Model Score : 0.8260507138458782 , Out of Sample Test Score : 0.42427432580945346\n",
            "Regresion Model Score : 0.7624912347255007 , Out of Sample Test Score : 0.4862514313830809\n",
            "Regresion Model Score : 0.7295685142655963 , Out of Sample Test Score : 0.5118785656033964\n",
            "Regresion Model Score : 0.7083883488235312 , Out of Sample Test Score : 0.5316238924579666\n",
            "Regresion Model Score : 0.6921137957106409 , Out of Sample Test Score : 0.5420025256528676\n",
            "Regresion Model Score : 0.6819028242731748 , Out of Sample Test Score : 0.5474864389769398\n",
            "Regresion Model Score : 0.6737819470988362 , Out of Sample Test Score : 0.5529378320048752\n",
            "Regresion Model Score : 0.6679587864018279 , Out of Sample Test Score : 0.5579367597393575\n",
            "Regresion Model Score : 0.6616134612124918 , Out of Sample Test Score : 0.5618922745198187\n",
            "Regresion Model Score : 0.6561654273732106 , Out of Sample Test Score : 0.5635035948021927\n",
            "Regresion Model Score : 0.6527994283993193 , Out of Sample Test Score : 0.5647340318516396\n",
            "Regresion Model Score : 0.6487506044628768 , Out of Sample Test Score : 0.56602121903056\n",
            "Regresion Model Score : 0.6465224332458704 , Out of Sample Test Score : 0.5674688574381496\n"
          ],
          "name": "stdout"
        }
      ]
    },
    {
      "cell_type": "markdown",
      "metadata": {
        "id": "mQoq9mHwtg1F",
        "colab_type": "text"
      },
      "source": [
        "**Among Linear Regression(OLS), Random Forest and KNN. Random Forest Model Performed better.**"
      ]
    },
    {
      "cell_type": "markdown",
      "metadata": {
        "id": "ACSJ3QkNtRJ1",
        "colab_type": "text"
      },
      "source": [
        "**Feature Importance**"
      ]
    },
    {
      "cell_type": "code",
      "metadata": {
        "id": "q_0_gptltbls",
        "colab_type": "code",
        "outputId": "a4ed1e5a-ecb3-49df-b048-e93e22923412",
        "colab": {
          "base_uri": "https://localhost:8080/",
          "height": 644
        }
      },
      "source": [
        "features = xl_train.columns\n",
        "importances = rdfreg.feature_importances_\n",
        "indices = np.argsort(importances)\n",
        "plt.figure(figsize=(8,10))\n",
        "plt.title('Feature Importances', fontsize=20)\n",
        "plt.barh(range(len(indices)), importances[indices], color='pink', align='center')\n",
        "plt.yticks(range(len(indices)), features[indices])\n",
        "plt.xlabel('Relative Importance')"
      ],
      "execution_count": 67,
      "outputs": [
        {
          "output_type": "execute_result",
          "data": {
            "text/plain": [
              "Text(0.5, 0, 'Relative Importance')"
            ]
          },
          "metadata": {
            "tags": []
          },
          "execution_count": 67
        },
        {
          "output_type": "display_data",
          "data": {
            "image/png": "[encoded data removed]",
            "text/plain": [
              "<Figure size 576x720 with 1 Axes>"
            ]
          },
          "metadata": {
            "tags": []
          }
        }
      ]
    }
  ]
}